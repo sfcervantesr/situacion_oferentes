{
 "cells": [
  {
   "cell_type": "markdown",
   "id": "1b36d5e1",
   "metadata": {},
   "source": [
    "# Situación de proveedores"
   ]
  },
  {
   "cell_type": "markdown",
   "id": "f288a5a0",
   "metadata": {},
   "source": [
    "El siguiente programa tiene por objetivo realizar la búsqueda de una empresa en las plataformas de la Secretaría de la Función Pública (S.F.P.), Comisión Federal de Competencia Económica (COFECE) y la Procuraduría Federal del Consumidor (PROFECO). Esto se realiza para conocer la situación legal y administrativa en que se encuentran las empresas que remitieron cotizaciones."
   ]
  },
  {
   "cell_type": "markdown",
   "id": "a9e84e55",
   "metadata": {},
   "source": [
    "El sistema realiza la búsqueda de forma automática por lo que inicialmente tomará el nombre de la empresa (que puede ir cambiando de acuerdo a la forma de búsqueda de cada página) y se le dan un tiempo estimado para poder tomar las capturas de pantalla para el análisis de la investigación de mercado"
   ]
  },
  {
   "cell_type": "code",
   "execution_count": 1,
   "id": "1885c1c4",
   "metadata": {},
   "outputs": [],
   "source": [
    "from selenium import webdriver\n",
    "from selenium.webdriver.common.by import By\n",
    "import pyautogui\n",
    "import time\n",
    "\n",
    "import os\n",
    "from reportlab.lib.pagesizes import letter\n",
    "from reportlab.lib.utils import ImageReader\n",
    "from reportlab.pdfgen import canvas"
   ]
  },
  {
   "cell_type": "code",
   "execution_count": 2,
   "id": "ade83a78",
   "metadata": {},
   "outputs": [
    {
     "name": "stdout",
     "output_type": "stream",
     "text": [
      "Escribe el nombre de la empresa a realizar la búsqueda: Optisoft\n",
      "Desea agregar otra empresa? [S/N]S\n",
      "Escribe el nombre de la empresa a realizar la búsqueda: Cognitus\n",
      "Desea agregar otra empresa? [S/N]N\n",
      "Escribe los segundos que se quedará en la página antes de que se cierre [default: 10 seg]2\n"
     ]
    }
   ],
   "source": [
    "listaEmpresa = []\n",
    "op = 'S'\n",
    "while (op == 'S') or (op == 's'):\n",
    "    empresa = input(\"Escribe el nombre de la empresa a realizar la búsqueda: \")\n",
    "    listaEmpresa.append(empresa)\n",
    "    op = input(\"Desea agregar otra empresa? [S/N]\")\n",
    "tiempo_ini = 10\n",
    "tiempo = input(\"Escribe los segundos que se quedará en la página antes de que se cierre [default: 10 seg]\")\n",
    "if tiempo == \"\":\n",
    "    tiempo = tiempo_ini\n",
    "else:\n",
    "    tiempo = int(tiempo)"
   ]
  },
  {
   "cell_type": "markdown",
   "id": "8a4b84b9",
   "metadata": {},
   "source": [
    "## COFECE"
   ]
  },
  {
   "cell_type": "markdown",
   "id": "decc1417",
   "metadata": {},
   "source": [
    "Se realizará la búsqueda a través de la COFECE, muchas veces se requiere un cambio de nombre. Por lo anterior se pedirá confirmar el nombre de la empresa"
   ]
  },
  {
   "cell_type": "code",
   "execution_count": 3,
   "id": "314d83a3",
   "metadata": {},
   "outputs": [],
   "source": [
    "def busquedaCofece(empresa, tiempo):\n",
    "    cofece_elementos = ['uc_investigaciones_Check_sancionadas', 'uc_investigaciones_Check_pma', 'uc_investigaciones_Check_pmr']\n",
    "    busqueda_e = input(f\"Desea cambiar el nombre de la empresa a buscar [{empresa}] en la página de la COFECE?\")\n",
    "    if busqueda_e == \"\":\n",
    "        busqueda_e = empresa\n",
    "\n",
    "    url_cofece = \"https://resoluciones.cofece.mx/\"\n",
    "    driver = webdriver.Chrome()\n",
    "    driver.maximize_window()\n",
    "    driver.get(url_cofece)\n",
    "    busqueda = driver.find_element(By.XPATH,'/html/body/form/div[3]/div[1]/div[2]/div/div[1]/div[1]/input')\n",
    "    busqueda.send_keys(busqueda_e)\n",
    "    time.sleep(1)\n",
    "    # Hacer el screenshot\n",
    "    screenshot = pyautogui.screenshot()\n",
    "    screenshot.save(f\"img/COFECE/{busqueda_e}-1.png\")\n",
    "    busqueda.send_keys(\"\\n\")\n",
    "    for check in cofece_elementos:\n",
    "        elementos = driver.find_element(By.ID, check)\n",
    "        elementos.click()\n",
    "    # Moverse al final de la pantalla\n",
    "    driver.execute_script(\"window.scrollTo(0,390)\")\n",
    "    time.sleep(5)\n",
    "    screenshot = pyautogui.screenshot()\n",
    "    screenshot.save(f\"img/COFECE/{busqueda_e}-2.png\")\n",
    "    time.sleep(tiempo)\n",
    "    driver.quit()"
   ]
  },
  {
   "cell_type": "markdown",
   "id": "7e2b530e",
   "metadata": {},
   "source": [
    "## PROFECO"
   ]
  },
  {
   "cell_type": "markdown",
   "id": "437a587f",
   "metadata": {},
   "source": [
    "Búsqueda a través de la plataforma de PROFECO, Acá realiza un %*NombreEmpresa*% Por lo que puede ser necesario cambiar el nombre dado por default"
   ]
  },
  {
   "cell_type": "code",
   "execution_count": 4,
   "id": "91478d3f",
   "metadata": {},
   "outputs": [],
   "source": [
    "def busquedaProfeco(empresa, tiempo):\n",
    "    busqueda_e = input(f\"Desea cambiar el nombre de la empresa a buscar [{empresa}] en la página de la PROFECO?\")\n",
    "    if busqueda_e == \"\":\n",
    "        busqueda_e = empresa\n",
    "        \n",
    "    url_profeco = \"https://burocomercial.profeco.gob.mx/\"\n",
    "    driver = webdriver.Chrome()\n",
    "    driver.maximize_window()\n",
    "    driver.get(url_profeco)\n",
    "    busqueda = driver.find_element(By.ID,'proveedor')\n",
    "    busqueda.send_keys(busqueda_e)\n",
    "    elementos = driver.find_element(By.ID, 'buscar')\n",
    "    elementos.click()\n",
    "    # Moverse al final de la pantalla\n",
    "    time.sleep(2)\n",
    "    driver.execute_script(\"window.scrollTo(0,1000)\")\n",
    "    # Hacer el Screenshot\n",
    "    time.sleep(1)\n",
    "    screenshot = pyautogui.screenshot()\n",
    "    screenshot.save(f\"img/PROFECO/{busqueda_e}.png\")\n",
    "    time.sleep(tiempo)\n",
    "    driver.quit()"
   ]
  },
  {
   "cell_type": "markdown",
   "id": "29238916",
   "metadata": {},
   "source": [
    "## S.F.P."
   ]
  },
  {
   "cell_type": "markdown",
   "id": "42dbf199",
   "metadata": {},
   "source": [
    "Búsqueda a través de la plataforma de la Secretaría de la Función Pública, puede ser necesario cambiar el nombre dado por default"
   ]
  },
  {
   "cell_type": "code",
   "execution_count": 5,
   "id": "fcf91119",
   "metadata": {},
   "outputs": [],
   "source": [
    "def busquedaSFP(empresa, tiempo):\n",
    "    busqueda_e = input(f\"Desea cambiar el nombre de la empresa a buscar [{empresa}] en la página de la SFP?\")\n",
    "    if busqueda_e == \"\":\n",
    "        busqueda_e = empresa\n",
    "    url_sfp = \"https://directoriosancionados.apps.funcionpublica.gob.mx/\"\n",
    "    driver = webdriver.Chrome()\n",
    "    driver.maximize_window()\n",
    "    driver.get(url_sfp)\n",
    "    busqueda = driver.find_element(By.ID,'textoBusqueda')\n",
    "    busqueda.send_keys(busqueda_e)\n",
    "    elementos = driver.find_element(By.XPATH, '/html/body/app-root/div/app-body/form/div/div[3]/div[2]/body-seleccion-prov/form/div[1]/button[1]')\n",
    "    elementos.click()\n",
    "    # Moverse al final de la pantalla\n",
    "    driver.execute_script(\"window.scrollTo(0,document.body.scrollHeight)\")\n",
    "    # Hacer el Screenshot\n",
    "    time.sleep(1)\n",
    "    screenshot = pyautogui.screenshot()\n",
    "    screenshot.save(f\"img/SFP/{busqueda_e}.png\")\n",
    "    time.sleep(tiempo)\n",
    "    driver.quit()"
   ]
  },
  {
   "cell_type": "markdown",
   "id": "4f94e240",
   "metadata": {},
   "source": [
    "## Generación de Archivo PDF"
   ]
  },
  {
   "cell_type": "markdown",
   "id": "746f9f5e",
   "metadata": {},
   "source": [
    "El siguiente código genera el archivo PDF que se empleará para añadir como evidencia de la situación de los oferentes."
   ]
  },
  {
   "cell_type": "code",
   "execution_count": 6,
   "id": "559a3d78",
   "metadata": {},
   "outputs": [],
   "source": [
    "def hacerPDF(dependecia):\n",
    "    w, h = letter\n",
    "    imagen_ancho = 492\n",
    "    imagen_alto = 275\n",
    "    if dependencia == 1:\n",
    "        nombreDependencia = \"Secretaría de la Función Pública\"\n",
    "        abrev = \"SFP\"\n",
    "        ruta = 'img/SFP/'\n",
    "    elif dependencia == 2:\n",
    "        nombreDependencia = \"Comisión Federal de Competencia Económica\"\n",
    "        abrev = \"COFECE\"\n",
    "        ruta = 'img/COFECE/'\n",
    "    else:\n",
    "        nombreDependencia = \"Procraduría Federal del Consumidor\"\n",
    "        abrev = \"PROFECO\"\n",
    "        ruta = 'img/PROFECO/'\n",
    "    \n",
    "    c = canvas.Canvas(f\"{abrev}.pdf\", pagesize=letter)\n",
    "    archivos = os.listdir(ruta)\n",
    "    c.drawString(200, h-65, nombreDependencia)\n",
    "    print(f\"Generando archivo: {abrev}.pdf ...\")\n",
    "    cont = 0\n",
    "    for img in archivos:\n",
    "        if cont % 2 == 0:\n",
    "            c.drawString(50, h - 50, \"Sría. Def. Nal.\")\n",
    "            c.drawString(450, h - 50, \"Dir. Gral. Inftca.\")\n",
    "            c.drawImage(ruta + img, 50, h - (imagen_alto+90), width=imagen_ancho, height=imagen_alto)\n",
    "            c.drawString(250, h - (imagen_alto+105), img)\n",
    "        if cont % 2 == 1:\n",
    "            c.drawImage(ruta + img, 50, h - ((imagen_alto+90)*2), width=imagen_ancho, height=imagen_alto)\n",
    "            c.drawString(250, h - ((imagen_alto+100)*2), img)\n",
    "            c.showPage()\n",
    "        cont = cont+1\n",
    "    c.save()\n",
    "    print(\"Archivo Generado.\")"
   ]
  },
  {
   "cell_type": "code",
   "execution_count": 7,
   "id": "fa6c9821",
   "metadata": {},
   "outputs": [
    {
     "name": "stdout",
     "output_type": "stream",
     "text": [
      "Desea cambiar el nombre de la empresa a buscar [Optisoft] en la página de la COFECE?\n",
      "Desea cambiar el nombre de la empresa a buscar [Optisoft] en la página de la PROFECO?\n",
      "Desea cambiar el nombre de la empresa a buscar [Optisoft] en la página de la SFP?\n",
      "Desea cambiar el nombre de la empresa a buscar [Cognitus] en la página de la COFECE?\n",
      "Desea cambiar el nombre de la empresa a buscar [Cognitus] en la página de la PROFECO?\n",
      "Desea cambiar el nombre de la empresa a buscar [Cognitus] en la página de la SFP?\n"
     ]
    }
   ],
   "source": [
    "for empresa in listaEmpresa:\n",
    "    busquedaCofece(empresa, tiempo)\n",
    "    busquedaProfeco(empresa, tiempo)\n",
    "    busquedaSFP(empresa, tiempo)"
   ]
  },
  {
   "cell_type": "code",
   "execution_count": 8,
   "id": "8dd04d0d",
   "metadata": {},
   "outputs": [
    {
     "name": "stdout",
     "output_type": "stream",
     "text": [
      "Generando archivo: SFP.pdf ...\n",
      "Archivo Generado.\n",
      "Generando archivo: COFECE.pdf ...\n",
      "Archivo Generado.\n",
      "Generando archivo: PROFECO.pdf ...\n",
      "Archivo Generado.\n"
     ]
    }
   ],
   "source": [
    "for dependencia in range(1,4):\n",
    "    hacerPDF(dependencia)"
   ]
  },
  {
   "cell_type": "code",
   "execution_count": null,
   "id": "54b2b12d",
   "metadata": {},
   "outputs": [],
   "source": []
  }
 ],
 "metadata": {
  "kernelspec": {
   "display_name": "Python 3 (ipykernel)",
   "language": "python",
   "name": "python3"
  },
  "language_info": {
   "codemirror_mode": {
    "name": "ipython",
    "version": 3
   },
   "file_extension": ".py",
   "mimetype": "text/x-python",
   "name": "python",
   "nbconvert_exporter": "python",
   "pygments_lexer": "ipython3",
   "version": "3.10.9"
  }
 },
 "nbformat": 4,
 "nbformat_minor": 5
}
